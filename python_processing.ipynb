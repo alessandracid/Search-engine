{
 "cells": [
  {
   "cell_type": "code",
   "execution_count": 48,
   "metadata": {},
   "outputs": [],
   "source": [
    "import os"
   ]
  },
  {
   "cell_type": "code",
   "execution_count": 45,
   "metadata": {},
   "outputs": [],
   "source": [
    "files_names = os.listdir()\n",
    "files_names.remove(\".ipynb_checkpoints\")\n",
    "files_names.remove(\"python_processing.ipynb\")\n",
    "files_names.remove('Cleaned_Texts')\n",
    "files_names.remove('wikicorpus.txt')"
   ]
  },
  {
   "cell_type": "code",
   "execution_count": 3,
   "metadata": {},
   "outputs": [],
   "source": [
    "#making the document wikicorpus. It has all the files joined. "
   ]
  },
  {
   "cell_type": "code",
   "execution_count": 24,
   "metadata": {},
   "outputs": [],
   "source": [
    "g = open(\"wikicorpus.txt\")\n",
    "g.close()"
   ]
  },
  {
   "cell_type": "code",
   "execution_count": 25,
   "metadata": {},
   "outputs": [],
   "source": [
    "g = open(\"wikicorpus.txt\",\"a\")\n",
    "for i in files_names:\n",
    "    f = open(i)\n",
    "    string = f.read()\n",
    "    g.write(string)\n",
    "    f.close()"
   ]
  },
  {
   "cell_type": "code",
   "execution_count": 4,
   "metadata": {},
   "outputs": [],
   "source": [
    "#what symbols do we have?"
   ]
  },
  {
   "cell_type": "code",
   "execution_count": 5,
   "metadata": {},
   "outputs": [],
   "source": [
    "symbols = set()"
   ]
  },
  {
   "cell_type": "code",
   "execution_count": 6,
   "metadata": {},
   "outputs": [],
   "source": [
    "for i in files_names:\n",
    "    f = open(i)\n",
    "    string = f.read()\n",
    "    symbols = symbols.union(set(string))\n",
    "    f.close()"
   ]
  },
  {
   "cell_type": "code",
   "execution_count": 10,
   "metadata": {},
   "outputs": [
    {
     "name": "stdout",
     "output_type": "stream",
     "text": [
      "{'8', '¼', 'ß', 'f', 'C', '<', 'e', '\\\\', ',', 'P', '©', '+', 'û', 'Ê', 'î', '6', '¢', 'T', 'F', 'O', '{', 'N', '=', 'Ü', '(', 'g', '¬', 'ë', '´', ':', 'ä', 'Á', 'Ø', 's', 'ê', '&', 'R', '¦', 'S', 'A', '¡', 'h', 'à', 'E', '¹', 'þ', 'w', '^', ';', 'â', '»', '`', 'Û', 'ç', 'X', '±', 'Ö', 'n', '%', 'Ò', '7', '_', '$', 'Ô', 'õ', 'è', '-', 'o', '÷', 'Æ', 'H', 'ñ', 'Ó', 'i', 'º', 'ø', 'ÿ', 'Ð', 'U', 'p', '?', 'å', 'á', 'ú', 'Í', 'Ý', 'W', 'ã', 'j', '/', '·', '\\xad', 'Ú', 'Q', '¿', 'Z', 'Â', 'ü', 'ì', '3', '.', 'ù', '¨', '\"', 'µ', 'M', 'Y', '#', ')', 'ð', '4', 'í', '×', 'z', 'r', '¤', ' ', 'Ñ', '²', '|', 'Þ', '2', '[', 'Ï', \"'\", '9', 'ö', 'È', 'Ì', 'm', 'x', '}', 'a', 'Õ', 'Ë', 'Å', '\\n', 'ó', '¯', 'D', 'ô', 'Ä', 'd', 'ò', '!', 'Ù', '«', 'l', 'v', '£', '\\t', 't', 'u', '~', '¶', 'c', 'I', 'b', '¸', 'K', 'é', 'V', '°', '³', 'Î', 'k', '0', 'y', '§', 'B', '>', 'q', '¥', 'G', '*', 'À', '½', '¾', '1', '\\xa0', 'æ', '®', 'É', '5', 'ï', 'Ã', '@', 'Ç', 'J', 'ª', ']', 'L', 'ý'}\n"
     ]
    }
   ],
   "source": [
    "print(symbols)"
   ]
  },
  {
   "cell_type": "code",
   "execution_count": 1,
   "metadata": {},
   "outputs": [],
   "source": [
    "symbols = {'8', '¼', 'ß', 'f', 'C', '<', 'e', '\\\\', ',', 'P', '©', '+', 'û', 'Ê', 'î', '6', '¢', 'T', 'F', 'O', '{', 'N', '=', 'Ü', '(', 'g', '¬', 'ë', '´', ':', 'ä', 'Á', 'Ø', 's', 'ê', '&', 'R', '¦', 'S', 'A', '¡', 'h', 'à', 'E', '¹', 'þ', 'w', '^', ';', 'â', '»', '`', 'Û', 'ç', 'X', '±', 'Ö', 'n', '%', 'Ò', '7', '_', '$', 'Ô', 'õ', 'è', '-', 'o', '÷', 'Æ', 'H', 'ñ', 'Ó', 'i', 'º', 'ø', 'ÿ', 'Ð', 'U', 'p', '?', 'å', 'á', 'ú', 'Í', 'Ý', 'W', 'ã', 'j', '/', '·', '\\xad', 'Ú', 'Q', '¿', 'Z', 'Â', 'ü', 'ì', '3', '.', 'ù', '¨', '\"', 'µ', 'M', 'Y', '#', ')', 'ð', '4', 'í', '×', 'z', 'r', '¤', ' ', 'Ñ', '²', '|', 'Þ', '2', '[', 'Ï', \"'\", '9', 'ö', 'È', 'Ì', 'm', 'x', '}', 'a', 'Õ', 'Ë', 'Å', '\\n', 'ó', '¯', 'D', 'ô', 'Ä', 'd', 'ò', '!', 'Ù', '«', 'l', 'v', '£', '\\t', 't', 'u', '~', '¶', 'c', 'I', 'b', '¸', 'K', 'é', 'V', '°', '³', 'Î', 'k', '0', 'y', '§', 'B', '>', 'q', '¥', 'G', '*', 'À', '½', '¾', '1', '\\xa0', 'æ', '®', 'É', '5', 'ï', 'Ã', '@', 'Ç', 'J', 'ª', ']', 'L', 'ý'}"
   ]
  },
  {
   "cell_type": "code",
   "execution_count": 2,
   "metadata": {},
   "outputs": [
    {
     "name": "stdout",
     "output_type": "stream",
     "text": [
      "['\\x00', '\\x01', '\\x02', '\\x03', '\\x04', '\\x05', '\\x06', '\\x07', '\\x08', '\\t', '\\n', '\\x0b', '\\x0c', '\\r', '\\x0e', '\\x0f', '\\x10', '\\x11', '\\x12', '\\x13', '\\x14', '\\x15', '\\x16', '\\x17', '\\x18', '\\x19', '\\x1a', '\\x1b', '\\x1c', '\\x1d', '\\x1e', '\\x1f', ' ', '!', '\"', '#', '$', '%', '&', \"'\", '(', ')', '*', '+', ',', '-', '.', '/', '0', '1', '2', '3', '4', '5', '6', '7', '8', '9', ':', ';', '<', '=', '>', '?', '@', 'A', 'B', 'C', 'D', 'E', 'F', 'G', 'H', 'I', 'J', 'K', 'L', 'M', 'N', 'O', 'P', 'Q', 'R', 'S', 'T', 'U', 'V', 'W', 'X', 'Y', 'Z', '[', '\\\\', ']', '^', '_', '`', 'a', 'b', 'c', 'd', 'e', 'f', 'g', 'h', 'i', 'j', 'k', 'l', 'm', 'n', 'o', 'p', 'q', 'r', 's', 't', 'u', 'v', 'w', 'x', 'y', 'z', '{', '|', '}', '~', '\\x7f']\n"
     ]
    }
   ],
   "source": [
    "ascii_set = list()\n",
    "for i in range(128):\n",
    "    ascii_set.append(chr(i))\n",
    "print(ascii_set)"
   ]
  },
  {
   "cell_type": "code",
   "execution_count": 3,
   "metadata": {},
   "outputs": [
    {
     "name": "stdout",
     "output_type": "stream",
     "text": [
      "{'Ý', '\\xad', 'ç', 'ì', 'ø', 'ë', 'È', 'è', 'ß', '»', 'à', 'É', 'Ë', '¹', '¯', '±', 'À', 'Ê', 'ó', '½', 'ú', '¤', '·', '¶', 'Æ', '¥', 'í', 'Ä', '§', '¦', 'Â', 'ê', 'á', 'ô', 'û', '¸', '´', 'ÿ', '¢', 'Ð', '³', 'Ç', '¨', '£', 'ö', 'Ó', 'Á', '¿', 'ã', '²', 'Ñ', 'ª', 'Ú', 'õ', 'ý', 'Í', 'Þ', '®', 'Å', 'Ù', '¡', 'æ', 'ù', 'Õ', 'ä', '×', 'Ã', 'ò', '\\xa0', 'º', '«', 'Ô', 'µ', 'Ì', '¬', 'å', 'Ï', 'ð', '°', 'é', 'Ö', 'ñ', 'Î', 'Ò', 'ü', 'ï', 'þ', 'î', 'Û', '¼', 'Ø', 'â', 'Ü', '¾', '©', '÷'}\n"
     ]
    }
   ],
   "source": [
    "symbols_out = symbols - set(ascii_set)\n",
    "print(symbols_out)"
   ]
  },
  {
   "cell_type": "code",
   "execution_count": 4,
   "metadata": {},
   "outputs": [],
   "source": [
    "##cleaning the not ascii symbols and put it in lower"
   ]
  },
  {
   "cell_type": "code",
   "execution_count": 51,
   "metadata": {},
   "outputs": [],
   "source": [
    "number_file = 0\n",
    "for i in files_names:\n",
    "    f = open(i)\n",
    "    string = f.read()\n",
    "    string = string.lower()\n",
    "    for j in symbols_out:\n",
    "        string = string.replace(j,\"\")\n",
    "    name = \"Cleaned_Texts/\"+str(number_file) + \".txt\"\n",
    "    g = open(name,\"w\")\n",
    "    g.write(string)\n",
    "    g.close()\n",
    "    number_file += 1"
   ]
  },
  {
   "cell_type": "code",
   "execution_count": null,
   "metadata": {},
   "outputs": [],
   "source": []
  }
 ],
 "metadata": {
  "kernelspec": {
   "display_name": "Python 3",
   "language": "python",
   "name": "python3"
  },
  "language_info": {
   "codemirror_mode": {
    "name": "ipython",
    "version": 3
   },
   "file_extension": ".py",
   "mimetype": "text/x-python",
   "name": "python",
   "nbconvert_exporter": "python",
   "pygments_lexer": "ipython3",
   "version": "3.7.1"
  }
 },
 "nbformat": 4,
 "nbformat_minor": 2
}
