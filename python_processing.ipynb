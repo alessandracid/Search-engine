{
 "cells": [
  {
   "cell_type": "code",
   "execution_count": 1,
   "metadata": {},
   "outputs": [],
   "source": [
    "import os"
   ]
  },
  {
   "cell_type": "code",
   "execution_count": 2,
   "metadata": {},
   "outputs": [],
   "source": [
    "files_names = os.listdir()\n",
    "files_names.remove(\".ipynb_checkpoints\")\n",
    "files_names.remove(\"python_processing.ipynb\")\n",
    "files_names.remove('Cleaned_Texts')\n",
    "files_names.remove('wikicorpus.txt')"
   ]
  },
  {
   "cell_type": "code",
   "execution_count": 4,
   "metadata": {},
   "outputs": [],
   "source": [
    "#what symbols do we have?"
   ]
  },
  {
   "cell_type": "code",
   "execution_count": 65,
   "metadata": {},
   "outputs": [],
   "source": [
    "symbols = set()"
   ]
  },
  {
   "cell_type": "code",
   "execution_count": 66,
   "metadata": {},
   "outputs": [],
   "source": [
    "for i in files_names:\n",
    "    f = open(i)\n",
    "    string = f.read()\n",
    "    symbols = symbols.union(set(string))\n",
    "    f.close()"
   ]
  },
  {
   "cell_type": "code",
   "execution_count": 2,
   "metadata": {},
   "outputs": [],
   "source": [
    "symbols = {'8', '¼', 'ß', 'f', 'C', '<', 'e', '\\\\', ',', 'P', '©', '+', 'û', 'Ê', 'î', '6', '¢', 'T', 'F', 'O', '{', 'N', '=', 'Ü', '(', 'g', '¬', 'ë', '´', ':', 'ä', 'Á', 'Ø', 's', 'ê', '&', 'R', '¦', 'S', 'A', '¡', 'h', 'à', 'E', '¹', 'þ', 'w', '^', ';', 'â', '»', '`', 'Û', 'ç', 'X', '±', 'Ö', 'n', '%', 'Ò', '7', '_', '$', 'Ô', 'õ', 'è', '-', 'o', '÷', 'Æ', 'H', 'ñ', 'Ó', 'i', 'º', 'ø', 'ÿ', 'Ð', 'U', 'p', '?', 'å', 'á', 'ú', 'Í', 'Ý', 'W', 'ã', 'j', '/', '·', '\\xad', 'Ú', 'Q', '¿', 'Z', 'Â', 'ü', 'ì', '3', '.', 'ù', '¨', '\"', 'µ', 'M', 'Y', '#', ')', 'ð', '4', 'í', '×', 'z', 'r', '¤', ' ', 'Ñ', '²', '|', 'Þ', '2', '[', 'Ï', \"'\", '9', 'ö', 'È', 'Ì', 'm', 'x', '}', 'a', 'Õ', 'Ë', 'Å', '\\n', 'ó', '¯', 'D', 'ô', 'Ä', 'd', 'ò', '!', 'Ù', '«', 'l', 'v', '£', '\\t', 't', 'u', '~', '¶', 'c', 'I', 'b', '¸', 'K', 'é', 'V', '°', '³', 'Î', 'k', '0', 'y', '§', 'B', '>', 'q', '¥', 'G', '*', 'À', '½', '¾', '1', '\\xa0', 'æ', '®', 'É', '5', 'ï', 'Ã', '@', 'Ç', 'J', 'ª', ']', 'L', 'ý'}"
   ]
  },
  {
   "cell_type": "code",
   "execution_count": 3,
   "metadata": {},
   "outputs": [],
   "source": [
    "upper = {'A', 'B', 'C', 'D', 'E', 'F', 'G', 'H', 'I', 'J', 'K', 'L', 'M', 'N', 'O', 'P', 'Q', 'R', 'S', 'T', 'U', 'V', 'W', 'X', 'Y', 'Z'}\n",
    "lower = {'a', 'b', 'c', 'd', 'e', 'f', 'g', 'h', 'i', 'j', 'k', 'l', 'm', 'n', 'o', 'p', 'q', 'r', 's', 't', 'u', 'v', 'w', 'x', 'y', 'z'}\n",
    "numbers = {'0', '1', '2', '3', '4', '5', '6', '7', '8', '9'}\n",
    "used_symbols = {'%','&','-','@',\"'\"}\n",
    "accented = {\"ô\", \"Ã\", \"é\", \"ã\", \"â\", \"É\", \"Ù\", \"ñ\", \"Î\", \"Ñ\", \"Ú\", \"ù\", \"ü\",\"í\", \"ì\", \"î\", \"Ó\", \"À\", \"Á\", \"È\", \"à\", \"Ê\", \"Ò\", \"Û\", \"ç\", \"Â\", \"Í\",\"á\",\"ú\", \"õ\", \"ó\",\"Õ\",\"ê\",\"Ç\",\"è\",\"Ì\",\"û\",\"Ô\"}\n",
    "wanted_symbols = upper.union(lower)\n",
    "wanted_symbols = wanted_symbols.union(numbers)\n",
    "wanted_symbols = wanted_symbols.union(used_symbols)\n",
    "wanted_symbols = wanted_symbols.union(accented)\n",
    "symbols_out = symbols - wanted_symbols"
   ]
  },
  {
   "cell_type": "code",
   "execution_count": 4,
   "metadata": {},
   "outputs": [
    {
     "name": "stdout",
     "output_type": "stream",
     "text": [
      "{'2', 'X', 'C', 'k', 'g', '9', 'c', 'U', '4', 'Ç', '0', 'R', 'û', 'K', 'z', 'Z', 'Ò', 'p', 'Í', 'j', 'Ó', 'N', 'Ã', 'ç', 't', 'ù', 'x', 'ô', 'Ù', 'd', 'q', 'B', 'J', 'm', 'Ê', 'ã', 'e', '8', '%', 'Y', '-', 'I', 'u', 'Ô', 'T', 'h', 'n', '7', 'y', 'r', '&', 'F', 'P', 'Â', 'ú', 'ì', 'Ú', 'ü', 'D', 'ê', 's', 'E', 'O', 'Q', 'l', 'S', 'Ñ', 'L', '6', 'V', 'Õ', 'õ', 'À', 'è', 'ñ', '5', 'i', 'H', '1', 'Ì', 'È', \"'\", 'É', 'Î', 'í', 'Û', 'á', 'b', 'W', 'v', '3', 'o', 'M', 'â', 'î', 'w', 'f', 'G', 'a', 'é', 'Á', 'ó', 'à', '@', 'A'}\n"
     ]
    }
   ],
   "source": [
    "print(wanted_symbols)"
   ]
  },
  {
   "cell_type": "code",
   "execution_count": 15,
   "metadata": {},
   "outputs": [],
   "source": [
    "##what about the accented symbols?"
   ]
  },
  {
   "cell_type": "code",
   "execution_count": 27,
   "metadata": {},
   "outputs": [],
   "source": [
    "accented_list = list(accented)\n",
    "accented_list = sorted(accented_list)"
   ]
  },
  {
   "cell_type": "code",
   "execution_count": 25,
   "metadata": {},
   "outputs": [],
   "source": [
    "subst_accented = {\"ç\": \"c\", 'à':\"a\", 'á':\"a\", 'â':\"a\", 'ã':\"a\", 'è':\"e\", 'é':\"e\", 'ê':\"e\", 'ì':\"i\", 'í':\"i\", 'î':\"i\", \"ñ\":\"n\", 'ó':\"o\", 'ô':\"o\", 'õ':\"o\", 'ù':\"u\", 'ú':\"u\", 'û':\"u\", 'ü':\"u\"}"
   ]
  },
  {
   "cell_type": "code",
   "execution_count": 4,
   "metadata": {},
   "outputs": [],
   "source": [
    "##cleaning the not ascii symbols and put it in lower"
   ]
  },
  {
   "cell_type": "code",
   "execution_count": 39,
   "metadata": {},
   "outputs": [],
   "source": [
    "number_file = 0\n",
    "g = open(\"teste.txt\",\"w\")\n",
    "for i in files_names:\n",
    "    f = open(i)\n",
    "    string = f.readline()\n",
    "    while string != \"\":\n",
    "        if \"<doc id\" in string:\n",
    "            g.close()\n",
    "            name = \"Cleaned_Texts/\"+str(number_file) + \".txt\"\n",
    "            g = open(name, \"w\")\n",
    "            g.close()\n",
    "            g = open(name,\"a\")\n",
    "            number_file += 1\n",
    "        string = string.lower()\n",
    "        for symbol in symbols_out:\n",
    "            string = string.replace(symbol,\" \")\n",
    "        for symbol in subst_accented.keys():\n",
    "            string = string.replace(symbol, subst_accented[symbol])\n",
    "        if \"endofarticle\" not in string and \"</doc>\" not in string:\n",
    "            g.write(string)\n",
    "            g.write(\" \")\n",
    "        string = f.readline()\n",
    "    f.close()\n",
    "g.close()"
   ]
  },
  {
   "cell_type": "code",
   "execution_count": null,
   "metadata": {},
   "outputs": [],
   "source": []
  }
 ],
 "metadata": {
  "kernelspec": {
   "display_name": "Python 3",
   "language": "python",
   "name": "python3"
  },
  "language_info": {
   "codemirror_mode": {
    "name": "ipython",
    "version": 3
   },
   "file_extension": ".py",
   "mimetype": "text/x-python",
   "name": "python",
   "nbconvert_exporter": "python",
   "pygments_lexer": "ipython3",
   "version": "3.7.1"
  }
 },
 "nbformat": 4,
 "nbformat_minor": 2
}
