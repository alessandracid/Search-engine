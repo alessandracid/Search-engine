{
 "cells": [
  {
   "cell_type": "code",
   "execution_count": 1,
   "metadata": {},
   "outputs": [],
   "source": [
    "## Processing the texts"
   ]
  },
  {
   "cell_type": "code",
   "execution_count": 2,
   "metadata": {},
   "outputs": [],
   "source": [
    "import os\n",
    "import shutil as sh\n",
    "import time"
   ]
  },
  {
   "cell_type": "code",
   "execution_count": 3,
   "metadata": {},
   "outputs": [],
   "source": [
    "files_names = os.listdir(\"englishTexts\")"
   ]
  },
  {
   "cell_type": "code",
   "execution_count": 4,
   "metadata": {},
   "outputs": [],
   "source": [
    "# capturing symbols we want and we do not want"
   ]
  },
  {
   "cell_type": "code",
   "execution_count": null,
   "metadata": {},
   "outputs": [],
   "source": [
    "symbols = set()\n",
    "for i in files_names:\n",
    "    f = open(i)\n",
    "    string = f.read()\n",
    "    symbols = symbols.union(set(string))\n",
    "    f.close()"
   ]
  },
  {
   "cell_type": "code",
   "execution_count": 5,
   "metadata": {},
   "outputs": [],
   "source": [
    "symbols = {'8', '¼', 'ß', 'f', 'C', '<', 'e', '\\\\', ',', 'P', '©', '+', 'û', 'Ê', 'î', '6', '¢', 'T', 'F', 'O', '{', 'N', '=', 'Ü', '(', 'g', '¬', 'ë', '´', ':', 'ä', 'Á', 'Ø', 's', 'ê', '&', 'R', '¦', 'S', 'A', '¡', 'h', 'à', 'E', '¹', 'þ', 'w', '^', ';', 'â', '»', '`', 'Û', 'ç', 'X', '±', 'Ö', 'n', '%', 'Ò', '7', '_', '$', 'Ô', 'õ', 'è', '-', 'o', '÷', 'Æ', 'H', 'ñ', 'Ó', 'i', 'º', 'ø', 'ÿ', 'Ð', 'U', 'p', '?', 'å', 'á', 'ú', 'Í', 'Ý', 'W', 'ã', 'j', '/', '·', '\\xad', 'Ú', 'Q', '¿', 'Z', 'Â', 'ü', 'ì', '3', '.', 'ù', '¨', '\"', 'µ', 'M', 'Y', '#', ')', 'ð', '4', 'í', '×', 'z', 'r', '¤', ' ', 'Ñ', '²', '|', 'Þ', '2', '[', 'Ï', \"'\", '9', 'ö', 'È', 'Ì', 'm', 'x', '}', 'a', 'Õ', 'Ë', 'Å', '\\n', 'ó', '¯', 'D', 'ô', 'Ä', 'd', 'ò', '!', 'Ù', '«', 'l', 'v', '£', '\\t', 't', 'u', '~', '¶', 'c', 'I', 'b', '¸', 'K', 'é', 'V', '°', '³', 'Î', 'k', '0', 'y', '§', 'B', '>', 'q', '¥', 'G', '*', 'À', '½', '¾', '1', '\\xa0', 'æ', '®', 'É', '5', 'ï', 'Ã', '@', 'Ç', 'J', 'ª', ']', 'L', 'ý'}\n",
    "upper = {'A', 'B', 'C', 'D', 'E', 'F', 'G', 'H', 'I', 'J', 'K', 'L', 'M', 'N', 'O', 'P', 'Q', 'R', 'S', 'T', 'U', 'V', 'W', 'X', 'Y', 'Z'}\n",
    "lower = {'a', 'b', 'c', 'd', 'e', 'f', 'g', 'h', 'i', 'j', 'k', 'l', 'm', 'n', 'o', 'p', 'q', 'r', 's', 't', 'u', 'v', 'w', 'x', 'y', 'z'}\n",
    "numbers = {'0', '1', '2', '3', '4', '5', '6', '7', '8', '9'}\n",
    "used_symbols = {'%','&','-','@',\"'\"}\n",
    "accented = {\"ô\", \"Ã\", \"é\", \"ã\", \"â\", \"É\", \"Ù\", \"ñ\", \"Î\", \"Ñ\", \"Ú\", \"ù\", \"ü\",\"í\", \"ì\", \"î\", \"Ó\", \"À\", \"Á\", \"È\", \"à\", \"Ê\", \"Ò\", \"Û\", \"ç\", \"Â\", \"Í\",\"á\",\"ú\", \"õ\", \"ó\",\"Õ\",\"ê\",\"Ç\",\"è\",\"Ì\",\"û\",\"Ô\"}\n",
    "wanted_symbols = upper.union(lower)\n",
    "wanted_symbols = wanted_symbols.union(numbers)\n",
    "wanted_symbols = wanted_symbols.union(used_symbols)\n",
    "wanted_symbols = wanted_symbols.union(accented)\n",
    "symbols_out = symbols - wanted_symbols"
   ]
  },
  {
   "cell_type": "code",
   "execution_count": 6,
   "metadata": {},
   "outputs": [],
   "source": [
    "##what about the accented symbols?"
   ]
  },
  {
   "cell_type": "code",
   "execution_count": 7,
   "metadata": {},
   "outputs": [],
   "source": [
    "accented_list = list(accented)\n",
    "accented_list = sorted(accented_list)\n",
    "subst_accented = {\"ç\": \"c\", 'à':\"a\", 'á':\"a\", 'â':\"a\", 'ã':\"a\", 'è':\"e\", 'é':\"e\", 'ê':\"e\", 'ì':\"i\", 'í':\"i\", 'î':\"i\", \"ñ\":\"n\", 'ó':\"o\", 'ô':\"o\", 'õ':\"o\", 'ù':\"u\", 'ú':\"u\", 'û':\"u\", 'ü':\"u\"}"
   ]
  },
  {
   "cell_type": "code",
   "execution_count": 8,
   "metadata": {},
   "outputs": [],
   "source": [
    "##cleaning the not ascii symbols and put it in lower"
   ]
  },
  {
   "cell_type": "code",
   "execution_count": 9,
   "metadata": {},
   "outputs": [],
   "source": [
    "def get_title(string):                  ##function to get title from title lines\n",
    "    begin = string.find(\"title\")\n",
    "    end = string.find(\"nonfiltered\")\n",
    "    if begin == -1 or end == -1: return None\n",
    "    title = string[begin+7:end - 2]\n",
    "    return title"
   ]
  },
  {
   "cell_type": "code",
   "execution_count": 10,
   "metadata": {},
   "outputs": [],
   "source": [
    "Titles = list()\n",
    "number_file = 0\n",
    "g = open(\"titles.txt\",\"w\")\n",
    "h = open(\"titles.txt\",\"w\")\n",
    "for i in files_names:\n",
    "    f = open(\"englishTexts/\" + i)\n",
    "    string = f.readline()\n",
    "    while string != \"\":\n",
    "        if \"<doc id\" in string:\n",
    "            g.close()   #closes the previous file\n",
    "            h.close()\n",
    "            name = \"Cleaned_Aux/\"+ str(number_file) + \".txt\"\n",
    "            name2 = \"SeparetedAux/\"+str(number_file) + \".txt\"\n",
    "\n",
    "            #getting title\n",
    "            string = get_title(string)\n",
    "            Titles.append(string)\n",
    "\n",
    "            g = open(name, \"w\")\n",
    "            h = open(name2, \"w\")\n",
    "            g.close()\n",
    "            h.close()\n",
    "            g = open(name,\"a\")\n",
    "            h = open(name2, \"a\")\n",
    "            number_file += 1\n",
    "\n",
    "        ##separeting    \n",
    "\n",
    "        h.write(string)\n",
    "        h.write(\"\\n\")\n",
    "\n",
    "        ##cleaning\n",
    "\n",
    "        string = string.lower()\n",
    "        for symbol in symbols_out:\n",
    "            string = string.replace(symbol,\" \")\n",
    "        for symbol in subst_accented.keys():\n",
    "            string = string.replace(symbol, subst_accented[symbol])\n",
    "        if \"endofarticle\" not in string:\n",
    "            g.write(string)\n",
    "            g.write(\" \")\n",
    "        string = f.readline()\n",
    "    f.close()\n",
    "g.close()\n",
    "h.close()"
   ]
  },
  {
   "cell_type": "code",
   "execution_count": 11,
   "metadata": {},
   "outputs": [],
   "source": [
    "## renaming the pages"
   ]
  },
  {
   "cell_type": "code",
   "execution_count": 55,
   "metadata": {},
   "outputs": [],
   "source": [
    "pages_ids = [str(i)+\".txt\" for i in range(len(Titles))]\n",
    "\n",
    "g = open(\"titles.txt\",\"a\")\n",
    "\n",
    "for t in Titles:\n",
    "    g.write(t)\n",
    "    g.write(\"\\n\")\n",
    "\n",
    "Titles_sorted = sorted(Titles)\n",
    "\n",
    "dict_ref = dict(zip(Titles, pages_ids))  #a reference to the current name\n",
    "\n",
    "g.close()"
   ]
  },
  {
   "cell_type": "code",
   "execution_count": 50,
   "metadata": {},
   "outputs": [],
   "source": [
    "g = open(\"titles_ordered.txt\",\"w\")\n",
    "for title in Titles_sorted:\n",
    "    g.write(title)\n",
    "    g.write(\"\\n\")\n",
    "g.close()"
   ]
  },
  {
   "cell_type": "code",
   "execution_count": 52,
   "metadata": {},
   "outputs": [],
   "source": [
    "#g = open(\"titles_ordered.txt\",\"w\")\n",
    "#t0 = time.time()\n",
    "#for title in range(len(Titles_sorted)):\n",
    "#    sh.copyfile(\"SeparetedAux/\" + str(dict_ref[Titles_sorted[title]]), \"SeparetedPages/\" + str(title) + \".txt\")\n",
    "#    sh.copyfile(\"Cleaned_Aux/\" + str(dict_ref[Titles_sorted[title]]), \"CleanedPages/\" + str(title) + \".txt\")\n",
    "#    if title%1000 == 0:\n",
    "#        print(time.time() - t0)\n",
    "#    g.write(Titles_sorted[title])\n",
    "#    g.write(\"\\n\")\n",
    "#g.close()"
   ]
  },
  {
   "cell_type": "code",
   "execution_count": null,
   "metadata": {},
   "outputs": [],
   "source": []
  }
 ],
 "metadata": {
  "kernelspec": {
   "display_name": "Python 3",
   "language": "python",
   "name": "python3"
  },
  "language_info": {
   "codemirror_mode": {
    "name": "ipython",
    "version": 3
   },
   "file_extension": ".py",
   "mimetype": "text/x-python",
   "name": "python",
   "nbconvert_exporter": "python",
   "pygments_lexer": "ipython3",
   "version": "3.7.1"
  }
 },
 "nbformat": 4,
 "nbformat_minor": 2
}
